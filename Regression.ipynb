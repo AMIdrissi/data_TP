{
 "cells": [
  {
   "cell_type": "code",
   "execution_count": 30,
   "id": "93c7777d",
   "metadata": {},
   "outputs": [],
   "source": [
    "import numpy as np\n",
    "import pandas as pd\n",
    "import matplotlib.pyplot as plt # a specialized 2d plotting library to visualise Numpy computations\n",
    "import statsmodels.api as sm\n",
    "    #these where imported after we set up the regression line\n",
    "import seaborn as sns # a similar package to matplotlib but it's more advanced at it\n",
    "sns.set() # basically it's like the relationship between css and html XD\n",
    "sns.set_theme(style=\"whitegrid\")\n",
    "\n",
    "#these are the ones we are gonna mainly use for now\n",
    "\n",
    "# import scipy # ecosystem for some of these libraries\n",
    "# import sklearn # machine learning librarie it's gonna help later on"
   ]
  },
  {
   "cell_type": "code",
   "execution_count": 31,
   "id": "e6fbb05a",
   "metadata": {},
   "outputs": [],
   "source": [
    "data = pd.read_csv('Automobile_data.csv') # this is used to import the data\n",
    "data['horsepower'] = data['horsepower'].replace('?', np.nan)\n",
    "data['price'] = data['price'].replace('?',np.nan)\n",
    "data['horsepower'] = data['horsepower'].astype(float)\n",
    "data['price'] = data['price'].astype(float)\n"
   ]
  },
  {
   "cell_type": "code",
   "execution_count": 32,
   "id": "483ed881",
   "metadata": {},
   "outputs": [],
   "source": [
    "data_og = data[['highway-mpg' , 'engine-size' , 'horsepower' , 'price']].dropna()\n",
    "data_ogf = data[['highway-mpg', 'horsepower', 'price' ]].dropna()\n"
   ]
  },
  {
   "cell_type": "code",
   "execution_count": 33,
   "id": "7842fb28",
   "metadata": {},
   "outputs": [],
   "source": [
    "data3 = data[['highway-mpg' , 'engine-size' , 'horsepower' , 'curb-weight']].dropna()"
   ]
  },
  {
   "cell_type": "code",
   "execution_count": 34,
   "id": "da33162d",
   "metadata": {},
   "outputs": [],
   "source": [
    "data2 = data3[['highway-mpg' , 'horsepower' ]]"
   ]
  },
  {
   "cell_type": "code",
   "execution_count": 35,
   "id": "82a0dc66",
   "metadata": {},
   "outputs": [
    {
     "name": "stdout",
     "output_type": "stream",
     "text": [
      "203\n",
      "203\n",
      "203\n",
      "203\n",
      "       price\n",
      "0    13495.0\n",
      "1    16500.0\n",
      "2    16500.0\n",
      "3    13950.0\n",
      "4    17450.0\n",
      "..       ...\n",
      "200  16845.0\n",
      "201  19045.0\n",
      "202  21485.0\n",
      "203  22470.0\n",
      "204  22625.0\n",
      "\n",
      "[201 rows x 1 columns]\n"
     ]
    }
   ],
   "source": [
    "print(data3['highway-mpg'].dropna().count())\n",
    "print(data3['curb-weight'].dropna().count())\n",
    "print(data3['horsepower'].dropna().count())\n",
    "print(data3['engine-size'].dropna().count())\n",
    "print(data[['price']].dropna())"
   ]
  },
  {
   "cell_type": "code",
   "execution_count": 42,
   "id": "82cf0ede",
   "metadata": {},
   "outputs": [],
   "source": [
    "\n",
    "\n",
    "# drop the rows using the drop() method\n",
    "X = data2.head(int(203 * 0.8)) # this drops the 20% of the data and leaves 80%\n",
    "y = data[['price']].dropna()\n",
    "from sklearn.model_selection import train_test_split\n",
    "y = y.head(int(len(data2) * 0.8))\n",
    "X_train, X_test, y_train, y_test = train_test_split(X, y, test_size=0.2, random_state=0)\n",
    "# the regression \n",
    "from sklearn import linear_model\n",
    "regr = linear_model.LinearRegression().fit(X_train, y_train) #all the magic happens here in this method\n",
    "\n"
   ]
  },
  {
   "cell_type": "code",
   "execution_count": 43,
   "id": "bcfb82ed",
   "metadata": {},
   "outputs": [
    {
     "data": {
      "text/plain": [
       "array([[-491.04757265,  -10.08843618]])"
      ]
     },
     "execution_count": 43,
     "metadata": {},
     "output_type": "execute_result"
    }
   ],
   "source": [
    "regr.coef_"
   ]
  },
  {
   "cell_type": "code",
   "execution_count": 44,
   "id": "e94ac52c",
   "metadata": {},
   "outputs": [
    {
     "data": {
      "text/plain": [
       "0.055334066425552386"
      ]
     },
     "execution_count": 44,
     "metadata": {},
     "output_type": "execute_result"
    }
   ],
   "source": [
    "regr.score(X,y)"
   ]
  },
  {
   "cell_type": "code",
   "execution_count": 45,
   "id": "740aa708",
   "metadata": {},
   "outputs": [],
   "source": [
    "predictor = regr.predict(X_test)"
   ]
  },
  {
   "cell_type": "code",
   "execution_count": 46,
   "id": "0d945fb4",
   "metadata": {},
   "outputs": [
    {
     "name": "stdout",
     "output_type": "stream",
     "text": [
      "Mean Squared Error: 104517643.156877\n",
      "R-squared: -0.2899696199409991\n"
     ]
    }
   ],
   "source": [
    "from sklearn.metrics import mean_squared_error, r2_score\n",
    "\n",
    "mse = mean_squared_error(y_test, predictor)\n",
    "r2 = r2_score(y_test, predictor)\n",
    "print('Mean Squared Error:', mse)\n",
    "print('R-squared:', r2)"
   ]
  },
  {
   "cell_type": "markdown",
   "id": "0f55353d",
   "metadata": {},
   "source": [
    "# idk why R-squared is so low "
   ]
  },
  {
   "cell_type": "markdown",
   "id": "9ab70153",
   "metadata": {},
   "source": [
    "## verifying the VIF for each variable"
   ]
  },
  {
   "cell_type": "code",
   "execution_count": 47,
   "id": "bf46fdfe",
   "metadata": {},
   "outputs": [
    {
     "name": "stdout",
     "output_type": "stream",
     "text": [
      "     variables        VIF\n",
      "0  highway-mpg   4.298398\n",
      "1   horsepower  18.102383\n",
      "2        price  11.202365\n"
     ]
    }
   ],
   "source": [
    "from statsmodels.stats.outliers_influence import variance_inflation_factor\n",
    "def calc_vif(X):\n",
    "\n",
    "    # Calculating VIF\n",
    "    vif = pd.DataFrame()\n",
    "    vif[\"variables\"] = X.columns\n",
    "    vif[\"VIF\"] = [variance_inflation_factor(X.values, i) for i in range(X.shape[1])]\n",
    "\n",
    "    return(vif)\n",
    "\n",
    "X = data_ogf\n",
    "print(calc_vif(X))"
   ]
  },
  {
   "cell_type": "code",
   "execution_count": 48,
   "id": "3fd967a1",
   "metadata": {},
   "outputs": [
    {
     "data": {
      "text/html": [
       "<div>\n",
       "<style scoped>\n",
       "    .dataframe tbody tr th:only-of-type {\n",
       "        vertical-align: middle;\n",
       "    }\n",
       "\n",
       "    .dataframe tbody tr th {\n",
       "        vertical-align: top;\n",
       "    }\n",
       "\n",
       "    .dataframe thead th {\n",
       "        text-align: right;\n",
       "    }\n",
       "</style>\n",
       "<table border=\"1\" class=\"dataframe\">\n",
       "  <thead>\n",
       "    <tr style=\"text-align: right;\">\n",
       "      <th></th>\n",
       "      <th>symboling</th>\n",
       "      <th>normalized-losses</th>\n",
       "      <th>make</th>\n",
       "      <th>fuel-type</th>\n",
       "      <th>aspiration</th>\n",
       "      <th>num-of-doors</th>\n",
       "      <th>body-style</th>\n",
       "      <th>drive-wheels</th>\n",
       "      <th>engine-location</th>\n",
       "      <th>wheel-base</th>\n",
       "      <th>...</th>\n",
       "      <th>engine-size</th>\n",
       "      <th>fuel-system</th>\n",
       "      <th>bore</th>\n",
       "      <th>stroke</th>\n",
       "      <th>compression-ratio</th>\n",
       "      <th>horsepower</th>\n",
       "      <th>peak-rpm</th>\n",
       "      <th>city-mpg</th>\n",
       "      <th>highway-mpg</th>\n",
       "      <th>price</th>\n",
       "    </tr>\n",
       "  </thead>\n",
       "  <tbody>\n",
       "    <tr>\n",
       "      <th>0</th>\n",
       "      <td>3</td>\n",
       "      <td>?</td>\n",
       "      <td>alfa-romero</td>\n",
       "      <td>gas</td>\n",
       "      <td>std</td>\n",
       "      <td>two</td>\n",
       "      <td>convertible</td>\n",
       "      <td>rwd</td>\n",
       "      <td>front</td>\n",
       "      <td>88.6</td>\n",
       "      <td>...</td>\n",
       "      <td>130</td>\n",
       "      <td>mpfi</td>\n",
       "      <td>3.47</td>\n",
       "      <td>2.68</td>\n",
       "      <td>9.0</td>\n",
       "      <td>111.0</td>\n",
       "      <td>5000</td>\n",
       "      <td>21</td>\n",
       "      <td>27</td>\n",
       "      <td>13495.0</td>\n",
       "    </tr>\n",
       "    <tr>\n",
       "      <th>1</th>\n",
       "      <td>3</td>\n",
       "      <td>?</td>\n",
       "      <td>alfa-romero</td>\n",
       "      <td>gas</td>\n",
       "      <td>std</td>\n",
       "      <td>two</td>\n",
       "      <td>convertible</td>\n",
       "      <td>rwd</td>\n",
       "      <td>front</td>\n",
       "      <td>88.6</td>\n",
       "      <td>...</td>\n",
       "      <td>130</td>\n",
       "      <td>mpfi</td>\n",
       "      <td>3.47</td>\n",
       "      <td>2.68</td>\n",
       "      <td>9.0</td>\n",
       "      <td>111.0</td>\n",
       "      <td>5000</td>\n",
       "      <td>21</td>\n",
       "      <td>27</td>\n",
       "      <td>16500.0</td>\n",
       "    </tr>\n",
       "    <tr>\n",
       "      <th>2</th>\n",
       "      <td>1</td>\n",
       "      <td>?</td>\n",
       "      <td>alfa-romero</td>\n",
       "      <td>gas</td>\n",
       "      <td>std</td>\n",
       "      <td>two</td>\n",
       "      <td>hatchback</td>\n",
       "      <td>rwd</td>\n",
       "      <td>front</td>\n",
       "      <td>94.5</td>\n",
       "      <td>...</td>\n",
       "      <td>152</td>\n",
       "      <td>mpfi</td>\n",
       "      <td>2.68</td>\n",
       "      <td>3.47</td>\n",
       "      <td>9.0</td>\n",
       "      <td>154.0</td>\n",
       "      <td>5000</td>\n",
       "      <td>19</td>\n",
       "      <td>26</td>\n",
       "      <td>16500.0</td>\n",
       "    </tr>\n",
       "    <tr>\n",
       "      <th>3</th>\n",
       "      <td>2</td>\n",
       "      <td>164</td>\n",
       "      <td>audi</td>\n",
       "      <td>gas</td>\n",
       "      <td>std</td>\n",
       "      <td>four</td>\n",
       "      <td>sedan</td>\n",
       "      <td>fwd</td>\n",
       "      <td>front</td>\n",
       "      <td>99.8</td>\n",
       "      <td>...</td>\n",
       "      <td>109</td>\n",
       "      <td>mpfi</td>\n",
       "      <td>3.19</td>\n",
       "      <td>3.4</td>\n",
       "      <td>10.0</td>\n",
       "      <td>102.0</td>\n",
       "      <td>5500</td>\n",
       "      <td>24</td>\n",
       "      <td>30</td>\n",
       "      <td>13950.0</td>\n",
       "    </tr>\n",
       "    <tr>\n",
       "      <th>4</th>\n",
       "      <td>2</td>\n",
       "      <td>164</td>\n",
       "      <td>audi</td>\n",
       "      <td>gas</td>\n",
       "      <td>std</td>\n",
       "      <td>four</td>\n",
       "      <td>sedan</td>\n",
       "      <td>4wd</td>\n",
       "      <td>front</td>\n",
       "      <td>99.4</td>\n",
       "      <td>...</td>\n",
       "      <td>136</td>\n",
       "      <td>mpfi</td>\n",
       "      <td>3.19</td>\n",
       "      <td>3.4</td>\n",
       "      <td>8.0</td>\n",
       "      <td>115.0</td>\n",
       "      <td>5500</td>\n",
       "      <td>18</td>\n",
       "      <td>22</td>\n",
       "      <td>17450.0</td>\n",
       "    </tr>\n",
       "    <tr>\n",
       "      <th>...</th>\n",
       "      <td>...</td>\n",
       "      <td>...</td>\n",
       "      <td>...</td>\n",
       "      <td>...</td>\n",
       "      <td>...</td>\n",
       "      <td>...</td>\n",
       "      <td>...</td>\n",
       "      <td>...</td>\n",
       "      <td>...</td>\n",
       "      <td>...</td>\n",
       "      <td>...</td>\n",
       "      <td>...</td>\n",
       "      <td>...</td>\n",
       "      <td>...</td>\n",
       "      <td>...</td>\n",
       "      <td>...</td>\n",
       "      <td>...</td>\n",
       "      <td>...</td>\n",
       "      <td>...</td>\n",
       "      <td>...</td>\n",
       "      <td>...</td>\n",
       "    </tr>\n",
       "    <tr>\n",
       "      <th>200</th>\n",
       "      <td>-1</td>\n",
       "      <td>95</td>\n",
       "      <td>volvo</td>\n",
       "      <td>gas</td>\n",
       "      <td>std</td>\n",
       "      <td>four</td>\n",
       "      <td>sedan</td>\n",
       "      <td>rwd</td>\n",
       "      <td>front</td>\n",
       "      <td>109.1</td>\n",
       "      <td>...</td>\n",
       "      <td>141</td>\n",
       "      <td>mpfi</td>\n",
       "      <td>3.78</td>\n",
       "      <td>3.15</td>\n",
       "      <td>9.5</td>\n",
       "      <td>114.0</td>\n",
       "      <td>5400</td>\n",
       "      <td>23</td>\n",
       "      <td>28</td>\n",
       "      <td>16845.0</td>\n",
       "    </tr>\n",
       "    <tr>\n",
       "      <th>201</th>\n",
       "      <td>-1</td>\n",
       "      <td>95</td>\n",
       "      <td>volvo</td>\n",
       "      <td>gas</td>\n",
       "      <td>turbo</td>\n",
       "      <td>four</td>\n",
       "      <td>sedan</td>\n",
       "      <td>rwd</td>\n",
       "      <td>front</td>\n",
       "      <td>109.1</td>\n",
       "      <td>...</td>\n",
       "      <td>141</td>\n",
       "      <td>mpfi</td>\n",
       "      <td>3.78</td>\n",
       "      <td>3.15</td>\n",
       "      <td>8.7</td>\n",
       "      <td>160.0</td>\n",
       "      <td>5300</td>\n",
       "      <td>19</td>\n",
       "      <td>25</td>\n",
       "      <td>19045.0</td>\n",
       "    </tr>\n",
       "    <tr>\n",
       "      <th>202</th>\n",
       "      <td>-1</td>\n",
       "      <td>95</td>\n",
       "      <td>volvo</td>\n",
       "      <td>gas</td>\n",
       "      <td>std</td>\n",
       "      <td>four</td>\n",
       "      <td>sedan</td>\n",
       "      <td>rwd</td>\n",
       "      <td>front</td>\n",
       "      <td>109.1</td>\n",
       "      <td>...</td>\n",
       "      <td>173</td>\n",
       "      <td>mpfi</td>\n",
       "      <td>3.58</td>\n",
       "      <td>2.87</td>\n",
       "      <td>8.8</td>\n",
       "      <td>134.0</td>\n",
       "      <td>5500</td>\n",
       "      <td>18</td>\n",
       "      <td>23</td>\n",
       "      <td>21485.0</td>\n",
       "    </tr>\n",
       "    <tr>\n",
       "      <th>203</th>\n",
       "      <td>-1</td>\n",
       "      <td>95</td>\n",
       "      <td>volvo</td>\n",
       "      <td>diesel</td>\n",
       "      <td>turbo</td>\n",
       "      <td>four</td>\n",
       "      <td>sedan</td>\n",
       "      <td>rwd</td>\n",
       "      <td>front</td>\n",
       "      <td>109.1</td>\n",
       "      <td>...</td>\n",
       "      <td>145</td>\n",
       "      <td>idi</td>\n",
       "      <td>3.01</td>\n",
       "      <td>3.4</td>\n",
       "      <td>23.0</td>\n",
       "      <td>106.0</td>\n",
       "      <td>4800</td>\n",
       "      <td>26</td>\n",
       "      <td>27</td>\n",
       "      <td>22470.0</td>\n",
       "    </tr>\n",
       "    <tr>\n",
       "      <th>204</th>\n",
       "      <td>-1</td>\n",
       "      <td>95</td>\n",
       "      <td>volvo</td>\n",
       "      <td>gas</td>\n",
       "      <td>turbo</td>\n",
       "      <td>four</td>\n",
       "      <td>sedan</td>\n",
       "      <td>rwd</td>\n",
       "      <td>front</td>\n",
       "      <td>109.1</td>\n",
       "      <td>...</td>\n",
       "      <td>141</td>\n",
       "      <td>mpfi</td>\n",
       "      <td>3.78</td>\n",
       "      <td>3.15</td>\n",
       "      <td>9.5</td>\n",
       "      <td>114.0</td>\n",
       "      <td>5400</td>\n",
       "      <td>19</td>\n",
       "      <td>25</td>\n",
       "      <td>22625.0</td>\n",
       "    </tr>\n",
       "  </tbody>\n",
       "</table>\n",
       "<p>205 rows × 26 columns</p>\n",
       "</div>"
      ],
      "text/plain": [
       "     symboling normalized-losses         make fuel-type aspiration  \\\n",
       "0            3                 ?  alfa-romero       gas        std   \n",
       "1            3                 ?  alfa-romero       gas        std   \n",
       "2            1                 ?  alfa-romero       gas        std   \n",
       "3            2               164         audi       gas        std   \n",
       "4            2               164         audi       gas        std   \n",
       "..         ...               ...          ...       ...        ...   \n",
       "200         -1                95        volvo       gas        std   \n",
       "201         -1                95        volvo       gas      turbo   \n",
       "202         -1                95        volvo       gas        std   \n",
       "203         -1                95        volvo    diesel      turbo   \n",
       "204         -1                95        volvo       gas      turbo   \n",
       "\n",
       "    num-of-doors   body-style drive-wheels engine-location  wheel-base  ...  \\\n",
       "0            two  convertible          rwd           front        88.6  ...   \n",
       "1            two  convertible          rwd           front        88.6  ...   \n",
       "2            two    hatchback          rwd           front        94.5  ...   \n",
       "3           four        sedan          fwd           front        99.8  ...   \n",
       "4           four        sedan          4wd           front        99.4  ...   \n",
       "..           ...          ...          ...             ...         ...  ...   \n",
       "200         four        sedan          rwd           front       109.1  ...   \n",
       "201         four        sedan          rwd           front       109.1  ...   \n",
       "202         four        sedan          rwd           front       109.1  ...   \n",
       "203         four        sedan          rwd           front       109.1  ...   \n",
       "204         four        sedan          rwd           front       109.1  ...   \n",
       "\n",
       "     engine-size  fuel-system  bore  stroke compression-ratio horsepower  \\\n",
       "0            130         mpfi  3.47    2.68               9.0      111.0   \n",
       "1            130         mpfi  3.47    2.68               9.0      111.0   \n",
       "2            152         mpfi  2.68    3.47               9.0      154.0   \n",
       "3            109         mpfi  3.19     3.4              10.0      102.0   \n",
       "4            136         mpfi  3.19     3.4               8.0      115.0   \n",
       "..           ...          ...   ...     ...               ...        ...   \n",
       "200          141         mpfi  3.78    3.15               9.5      114.0   \n",
       "201          141         mpfi  3.78    3.15               8.7      160.0   \n",
       "202          173         mpfi  3.58    2.87               8.8      134.0   \n",
       "203          145          idi  3.01     3.4              23.0      106.0   \n",
       "204          141         mpfi  3.78    3.15               9.5      114.0   \n",
       "\n",
       "     peak-rpm city-mpg highway-mpg    price  \n",
       "0        5000       21          27  13495.0  \n",
       "1        5000       21          27  16500.0  \n",
       "2        5000       19          26  16500.0  \n",
       "3        5500       24          30  13950.0  \n",
       "4        5500       18          22  17450.0  \n",
       "..        ...      ...         ...      ...  \n",
       "200      5400       23          28  16845.0  \n",
       "201      5300       19          25  19045.0  \n",
       "202      5500       18          23  21485.0  \n",
       "203      4800       26          27  22470.0  \n",
       "204      5400       19          25  22625.0  \n",
       "\n",
       "[205 rows x 26 columns]"
      ]
     },
     "execution_count": 48,
     "metadata": {},
     "output_type": "execute_result"
    }
   ],
   "source": [
    "data"
   ]
  },
  {
   "cell_type": "code",
   "execution_count": 49,
   "id": "251faa67",
   "metadata": {},
   "outputs": [],
   "source": [
    "# data['normalized-losses'] = data['normalized-losses'].replace('?', np.nan)\n",
    "# data['fuel-type'] = data['fuel-type'].replace('gas', '1')\n",
    "# data['fuel-type'] = data['fuel-type'].replace('diesel', '0')\n",
    "# data['fuel-type'] = data['fuel-type'].astype(float)\n",
    "# data['city-mpg'] = data['city-mpg'].replace('?',np.nan)\n",
    "# data['normalized-losses'] = data['normalized-losses'].astype(float)\n",
    "# data['city-mpg'] = data['city-mpg'].astype(float)\n",
    "# data['peak-rpm'] = data['peak-rpm'].replace('?', np.nan)\n",
    "# data['peak-rpm'] = data['peak-rpm'].astype(float)"
   ]
  },
  {
   "cell_type": "code",
   "execution_count": 50,
   "id": "38e0c128",
   "metadata": {},
   "outputs": [
    {
     "data": {
      "text/plain": [
       "{'1bbl', '2bbl', '4bbl', 'idi', 'mfi', 'mpfi', 'spdi', 'spfi'}"
      ]
     },
     "execution_count": 50,
     "metadata": {},
     "output_type": "execute_result"
    }
   ],
   "source": [
    "set(data['fuel-system'])"
   ]
  },
  {
   "cell_type": "code",
   "execution_count": 51,
   "id": "d85521ff",
   "metadata": {},
   "outputs": [
    {
     "data": {
      "text/plain": [
       "{'eight', 'five', 'four', 'six', 'three', 'twelve', 'two'}"
      ]
     },
     "execution_count": 51,
     "metadata": {},
     "output_type": "execute_result"
    }
   ],
   "source": [
    "set(data['num-of-cylinders'])"
   ]
  },
  {
   "cell_type": "code",
   "execution_count": 52,
   "id": "f4353306",
   "metadata": {},
   "outputs": [
    {
     "data": {
      "text/plain": [
       "{'alfa-romero',\n",
       " 'audi',\n",
       " 'bmw',\n",
       " 'chevrolet',\n",
       " 'dodge',\n",
       " 'honda',\n",
       " 'isuzu',\n",
       " 'jaguar',\n",
       " 'mazda',\n",
       " 'mercedes-benz',\n",
       " 'mercury',\n",
       " 'mitsubishi',\n",
       " 'nissan',\n",
       " 'peugot',\n",
       " 'plymouth',\n",
       " 'porsche',\n",
       " 'renault',\n",
       " 'saab',\n",
       " 'subaru',\n",
       " 'toyota',\n",
       " 'volkswagen',\n",
       " 'volvo'}"
      ]
     },
     "execution_count": 52,
     "metadata": {},
     "output_type": "execute_result"
    }
   ],
   "source": [
    "set(data['make'])"
   ]
  },
  {
   "cell_type": "code",
   "execution_count": 53,
   "id": "72a21150",
   "metadata": {},
   "outputs": [],
   "source": [
    "regr = linear_model.LinearRegression().fit(np.array(x1).reshape(162,2), y)"
   ]
  },
  {
   "cell_type": "markdown",
   "id": "7b911849",
   "metadata": {},
   "source": [
    "## retrying using OLS() because i lost faith on R-squared 눈_눈"
   ]
  },
  {
   "cell_type": "code",
   "execution_count": 54,
   "id": "64bd1bb9",
   "metadata": {},
   "outputs": [
    {
     "data": {
      "text/html": [
       "<table class=\"simpletable\">\n",
       "<caption>OLS Regression Results</caption>\n",
       "<tr>\n",
       "  <th>Dep. Variable:</th>          <td>price</td>      <th>  R-squared:         </th> <td>   0.072</td>\n",
       "</tr>\n",
       "<tr>\n",
       "  <th>Model:</th>                   <td>OLS</td>       <th>  Adj. R-squared:    </th> <td>   0.060</td>\n",
       "</tr>\n",
       "<tr>\n",
       "  <th>Method:</th>             <td>Least Squares</td>  <th>  F-statistic:       </th> <td>   6.142</td>\n",
       "</tr>\n",
       "<tr>\n",
       "  <th>Date:</th>             <td>Fri, 21 Apr 2023</td> <th>  Prob (F-statistic):</th>  <td>0.00269</td>\n",
       "</tr>\n",
       "<tr>\n",
       "  <th>Time:</th>                 <td>20:50:32</td>     <th>  Log-Likelihood:    </th> <td> -1691.1</td>\n",
       "</tr>\n",
       "<tr>\n",
       "  <th>No. Observations:</th>      <td>   162</td>      <th>  AIC:               </th> <td>   3388.</td>\n",
       "</tr>\n",
       "<tr>\n",
       "  <th>Df Residuals:</th>          <td>   159</td>      <th>  BIC:               </th> <td>   3398.</td>\n",
       "</tr>\n",
       "<tr>\n",
       "  <th>Df Model:</th>              <td>     2</td>      <th>                     </th>     <td> </td>   \n",
       "</tr>\n",
       "<tr>\n",
       "  <th>Covariance Type:</th>      <td>nonrobust</td>    <th>                     </th>     <td> </td>   \n",
       "</tr>\n",
       "</table>\n",
       "<table class=\"simpletable\">\n",
       "<tr>\n",
       "    <td></td>       <th>coef</th>     <th>std err</th>      <th>t</th>      <th>P>|t|</th>  <th>[0.025</th>    <th>0.975]</th>  \n",
       "</tr>\n",
       "<tr>\n",
       "  <th>const</th> <td>  2.29e+04</td> <td> 6420.889</td> <td>    3.566</td> <td> 0.000</td> <td> 1.02e+04</td> <td> 3.56e+04</td>\n",
       "</tr>\n",
       "<tr>\n",
       "  <th>x1</th>    <td> -315.8394</td> <td>  139.223</td> <td>   -2.269</td> <td> 0.025</td> <td> -590.805</td> <td>  -40.874</td>\n",
       "</tr>\n",
       "<tr>\n",
       "  <th>x2</th>    <td>    0.8119</td> <td>   24.019</td> <td>    0.034</td> <td> 0.973</td> <td>  -46.626</td> <td>   48.250</td>\n",
       "</tr>\n",
       "</table>\n",
       "<table class=\"simpletable\">\n",
       "<tr>\n",
       "  <th>Omnibus:</th>       <td>53.463</td> <th>  Durbin-Watson:     </th> <td>   0.623</td>\n",
       "</tr>\n",
       "<tr>\n",
       "  <th>Prob(Omnibus):</th> <td> 0.000</td> <th>  Jarque-Bera (JB):  </th> <td> 102.058</td>\n",
       "</tr>\n",
       "<tr>\n",
       "  <th>Skew:</th>          <td> 1.577</td> <th>  Prob(JB):          </th> <td>6.89e-23</td>\n",
       "</tr>\n",
       "<tr>\n",
       "  <th>Kurtosis:</th>      <td> 5.274</td> <th>  Cond. No.          </th> <td>1.12e+03</td>\n",
       "</tr>\n",
       "</table><br/><br/>Notes:<br/>[1] Standard Errors assume that the covariance matrix of the errors is correctly specified.<br/>[2] The condition number is large, 1.12e+03. This might indicate that there are<br/>strong multicollinearity or other numerical problems."
      ],
      "text/plain": [
       "<class 'statsmodels.iolib.summary.Summary'>\n",
       "\"\"\"\n",
       "                            OLS Regression Results                            \n",
       "==============================================================================\n",
       "Dep. Variable:                  price   R-squared:                       0.072\n",
       "Model:                            OLS   Adj. R-squared:                  0.060\n",
       "Method:                 Least Squares   F-statistic:                     6.142\n",
       "Date:                Fri, 21 Apr 2023   Prob (F-statistic):            0.00269\n",
       "Time:                        20:50:32   Log-Likelihood:                -1691.1\n",
       "No. Observations:                 162   AIC:                             3388.\n",
       "Df Residuals:                     159   BIC:                             3398.\n",
       "Df Model:                           2                                         \n",
       "Covariance Type:            nonrobust                                         \n",
       "==============================================================================\n",
       "                 coef    std err          t      P>|t|      [0.025      0.975]\n",
       "------------------------------------------------------------------------------\n",
       "const        2.29e+04   6420.889      3.566      0.000    1.02e+04    3.56e+04\n",
       "x1          -315.8394    139.223     -2.269      0.025    -590.805     -40.874\n",
       "x2             0.8119     24.019      0.034      0.973     -46.626      48.250\n",
       "==============================================================================\n",
       "Omnibus:                       53.463   Durbin-Watson:                   0.623\n",
       "Prob(Omnibus):                  0.000   Jarque-Bera (JB):              102.058\n",
       "Skew:                           1.577   Prob(JB):                     6.89e-23\n",
       "Kurtosis:                       5.274   Cond. No.                     1.12e+03\n",
       "==============================================================================\n",
       "\n",
       "Notes:\n",
       "[1] Standard Errors assume that the covariance matrix of the errors is correctly specified.\n",
       "[2] The condition number is large, 1.12e+03. This might indicate that there are\n",
       "strong multicollinearity or other numerical problems.\n",
       "\"\"\""
      ]
     },
     "execution_count": 54,
     "metadata": {},
     "output_type": "execute_result"
    }
   ],
   "source": [
    "x1 = data2[['highway-mpg','horsepower']].dropna().head(int(203*0.8))\n",
    "x = np.array(sm.add_constant(x1)).reshape(int(x1.size/2),3) # constant x\n",
    "y = data['price'].dropna().head(162)\n",
    "result = sm.OLS(y,x).fit() #fit() helps visualising the OLS line in the best way/ position possible\n",
    "# (the purple line down there)\n",
    "result.summary() # this gives various info to us about the regession"
   ]
  },
  {
   "cell_type": "markdown",
   "id": "dc030128",
   "metadata": {},
   "source": [
    "## this is just to show coefficients and R-squared which is low  e(ço_yè\"ç_\"t'ygheiue"
   ]
  },
  {
   "cell_type": "code",
   "execution_count": 55,
   "id": "7c90f9e6",
   "metadata": {},
   "outputs": [
    {
     "data": {
      "text/plain": [
       "array([[-315.83938942,    0.81195   ]])"
      ]
     },
     "execution_count": 55,
     "metadata": {},
     "output_type": "execute_result"
    }
   ],
   "source": [
    "regr.coef_"
   ]
  },
  {
   "cell_type": "code",
   "execution_count": 58,
   "id": "d885cbc3",
   "metadata": {},
   "outputs": [
    {
     "name": "stderr",
     "output_type": "stream",
     "text": [
      "C:\\Anaconda\\lib\\site-packages\\sklearn\\base.py:443: UserWarning: X has feature names, but LinearRegression was fitted without feature names\n",
      "  warnings.warn(\n"
     ]
    },
    {
     "data": {
      "text/plain": [
       "array([[12215.51628516],\n",
       "       [13828.81513221],\n",
       "       [13828.81513221],\n",
       "       [13516.22354279],\n",
       "       [13516.22354279],\n",
       "       [13516.22354279],\n",
       "       [13516.22354279],\n",
       "       [13516.22354279],\n",
       "       [13516.22354279],\n",
       "       [12233.37918514],\n",
       "       [12533.79152458],\n",
       "       [12865.05796398],\n",
       "       [12865.05796398],\n",
       "       [12865.05796398],\n",
       "       [15447.79762925],\n",
       "       [15447.79762925],\n",
       "       [15443.73787926],\n",
       "       [15443.73787926],\n",
       "       [ 8410.82851216],\n",
       "       [12227.69553515],\n",
       "       [ 8410.82851216],\n",
       "       [12227.69553515],\n",
       "       [12227.69553515],\n",
       "       [ 9687.17726982],\n",
       "       [12871.55356397],\n",
       "       [13810.95223224],\n",
       "       [13810.95223224],\n",
       "       [15406.38817931],\n",
       "       [10950.53482749],\n",
       "       [13177.6495534 ],\n",
       "       [14146.27842163],\n",
       "       [14146.27842163],\n",
       "       [14146.27842163],\n",
       "       [14146.27842163],\n",
       "       [16080.28835809],\n",
       "       [16080.28835809],\n",
       "       [14146.27842163],\n",
       "       [15131.14628983],\n",
       "       [15741.7143687 ],\n",
       "       [14455.62221105],\n",
       "       [15093.79658988]])"
      ]
     },
     "execution_count": 58,
     "metadata": {},
     "output_type": "execute_result"
    }
   ],
   "source": [
    "regr.predict(data2[['highway-mpg','horsepower']].tail(203-162))"
   ]
  },
  {
   "cell_type": "code",
   "execution_count": null,
   "id": "c3574e52",
   "metadata": {},
   "outputs": [],
   "source": []
  }
 ],
 "metadata": {
  "kernelspec": {
   "display_name": "Python 3 (ipykernel)",
   "language": "python",
   "name": "python3"
  },
  "language_info": {
   "codemirror_mode": {
    "name": "ipython",
    "version": 3
   },
   "file_extension": ".py",
   "mimetype": "text/x-python",
   "name": "python",
   "nbconvert_exporter": "python",
   "pygments_lexer": "ipython3",
   "version": "3.9.13"
  }
 },
 "nbformat": 4,
 "nbformat_minor": 5
}
