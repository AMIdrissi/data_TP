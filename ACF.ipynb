{
 "cells": [
  {
   "cell_type": "code",
   "execution_count": 221,
   "id": "4bf89a41",
   "metadata": {},
   "outputs": [],
   "source": [
    "import numpy as np\n",
    "import pandas as pd\n",
    "import matplotlib.pyplot as plt # a specialized 2d plotting library to visualise Numpy computations\n",
    "import statsmodels.api as sm\n",
    "    #these where imported after we set up the regression line\n",
    "import seaborn as sns # a similar package to matplotlib but it's more advanced at it\n",
    "sns.set() # basically it's like the relationship between css and html XD\n",
    "sns.set_theme(style=\"whitegrid\")"
   ]
  },
  {
   "cell_type": "code",
   "execution_count": 222,
   "id": "093c2d1d",
   "metadata": {},
   "outputs": [],
   "source": [
    "#for context this is a dataset of people with a preticular hair style and what eye color they have\n",
    "\n",
    "data = pd.read_csv('TP.csv')\n",
    "data1 = data.drop('val' , axis=1) "
   ]
  },
  {
   "cell_type": "code",
   "execution_count": 223,
   "id": "42953575",
   "metadata": {},
   "outputs": [],
   "source": [
    "d = list(data.columns)[1:4]\n",
    "data1['Totali'] = data1[d].sum(axis=1)\n",
    "data1['Totali']\n",
    "d2 = list(data1.columns)[0:4]\n",
    "data1.loc[len(data1)] = data1[d2].sum()\n"
   ]
  },
  {
   "cell_type": "code",
   "execution_count": 224,
   "id": "86d8496a",
   "metadata": {},
   "outputs": [],
   "source": [
    "row_names = {0: 'Marrons', 1: 'Noisettes', 2: 'Verts', 3:'Bleus' ,4:'Totalj'}\n",
    "data1 = data1.rename(index=row_names)\n"
   ]
  },
  {
   "cell_type": "code",
   "execution_count": 225,
   "id": "81ec5963",
   "metadata": {},
   "outputs": [],
   "source": [
    "# total des valeurs\n",
    "total = data1.Totali[4]\n",
    "data_raw = data1.copy()\n",
    "data_raw\n",
    "\n",
    "data_cc = data_raw.drop('Totali' , axis=1).copy()\n",
    "data_cc = data_cc.drop('Totalj') #<---- the dataset without any totals"
   ]
  },
  {
   "cell_type": "code",
   "execution_count": 226,
   "id": "f1ee34b0",
   "metadata": {},
   "outputs": [],
   "source": [
    "data1 = data1/total"
   ]
  },
  {
   "cell_type": "code",
   "execution_count": 227,
   "id": "5509513c",
   "metadata": {},
   "outputs": [
    {
     "data": {
      "text/html": [
       "<div>\n",
       "<style scoped>\n",
       "    .dataframe tbody tr th:only-of-type {\n",
       "        vertical-align: middle;\n",
       "    }\n",
       "\n",
       "    .dataframe tbody tr th {\n",
       "        vertical-align: top;\n",
       "    }\n",
       "\n",
       "    .dataframe thead th {\n",
       "        text-align: right;\n",
       "    }\n",
       "</style>\n",
       "<table border=\"1\" class=\"dataframe\">\n",
       "  <thead>\n",
       "    <tr style=\"text-align: right;\">\n",
       "      <th></th>\n",
       "      <th>Chatains</th>\n",
       "      <th>Roux</th>\n",
       "      <th>Blonds</th>\n",
       "      <th>Totali</th>\n",
       "    </tr>\n",
       "  </thead>\n",
       "  <tbody>\n",
       "    <tr>\n",
       "      <th>Marrons</th>\n",
       "      <td>0.245868</td>\n",
       "      <td>0.053719</td>\n",
       "      <td>0.014463</td>\n",
       "      <td>0.314050</td>\n",
       "    </tr>\n",
       "    <tr>\n",
       "      <th>Noisettes</th>\n",
       "      <td>0.111570</td>\n",
       "      <td>0.028926</td>\n",
       "      <td>0.020661</td>\n",
       "      <td>0.161157</td>\n",
       "    </tr>\n",
       "    <tr>\n",
       "      <th>Verts</th>\n",
       "      <td>0.059917</td>\n",
       "      <td>0.028926</td>\n",
       "      <td>0.033058</td>\n",
       "      <td>0.121901</td>\n",
       "    </tr>\n",
       "    <tr>\n",
       "      <th>Bleus</th>\n",
       "      <td>0.173554</td>\n",
       "      <td>0.035124</td>\n",
       "      <td>0.194215</td>\n",
       "      <td>0.402893</td>\n",
       "    </tr>\n",
       "    <tr>\n",
       "      <th>Totalj</th>\n",
       "      <td>0.590909</td>\n",
       "      <td>0.146694</td>\n",
       "      <td>0.262397</td>\n",
       "      <td>1.000000</td>\n",
       "    </tr>\n",
       "  </tbody>\n",
       "</table>\n",
       "</div>"
      ],
      "text/plain": [
       "           Chatains      Roux    Blonds    Totali\n",
       "Marrons    0.245868  0.053719  0.014463  0.314050\n",
       "Noisettes  0.111570  0.028926  0.020661  0.161157\n",
       "Verts      0.059917  0.028926  0.033058  0.121901\n",
       "Bleus      0.173554  0.035124  0.194215  0.402893\n",
       "Totalj     0.590909  0.146694  0.262397  1.000000"
      ]
     },
     "execution_count": 227,
     "metadata": {},
     "output_type": "execute_result"
    }
   ],
   "source": [
    "rows_val = list(data1.index)\n",
    "data1 # Tableau de probabilités (probability table)"
   ]
  },
  {
   "cell_type": "code",
   "execution_count": 228,
   "id": "76dc6143",
   "metadata": {},
   "outputs": [
    {
     "data": {
      "text/plain": [
       "array([[0.18557476, 0.04606926, 0.08240557],\n",
       "       [0.09522915, 0.0236408 , 0.04228707],\n",
       "       [0.07203231, 0.01788215, 0.03198637],\n",
       "       [0.23807288, 0.05910201, 0.10571768]])"
      ]
     },
     "execution_count": 228,
     "metadata": {},
     "output_type": "execute_result"
    }
   ],
   "source": [
    "\n",
    "    \n",
    "\n",
    "\n",
    "#first method \n",
    "\n",
    "# table verifiant f.i*f.j == fij\n",
    "\n",
    "\n",
    "l = []\n",
    "Totaljs = list(data1.loc['Totalj'])\n",
    "\n",
    "for i in range(0,(len(data1)-1)):\n",
    "    for j in range(0,(len(data1)-2)):\n",
    "        l.append((Totaljs[j])*(data1.Totali[i]))\n",
    "        \n",
    "lr = np.array(l).reshape(4,3)\n",
    "        \n",
    "lr\n",
    "       "
   ]
  },
  {
   "cell_type": "code",
   "execution_count": 229,
   "id": "5b5d5970",
   "metadata": {},
   "outputs": [
    {
     "data": {
      "text/html": [
       "<div>\n",
       "<style scoped>\n",
       "    .dataframe tbody tr th:only-of-type {\n",
       "        vertical-align: middle;\n",
       "    }\n",
       "\n",
       "    .dataframe tbody tr th {\n",
       "        vertical-align: top;\n",
       "    }\n",
       "\n",
       "    .dataframe thead th {\n",
       "        text-align: right;\n",
       "    }\n",
       "</style>\n",
       "<table border=\"1\" class=\"dataframe\">\n",
       "  <thead>\n",
       "    <tr style=\"text-align: right;\">\n",
       "      <th></th>\n",
       "      <th>Chatains</th>\n",
       "      <th>Roux</th>\n",
       "      <th>Blonds</th>\n",
       "      <th>Totali</th>\n",
       "    </tr>\n",
       "  </thead>\n",
       "  <tbody>\n",
       "    <tr>\n",
       "      <th>Marrons</th>\n",
       "      <td>0.782895</td>\n",
       "      <td>0.171053</td>\n",
       "      <td>0.046053</td>\n",
       "      <td>1.0</td>\n",
       "    </tr>\n",
       "    <tr>\n",
       "      <th>Noisettes</th>\n",
       "      <td>0.692308</td>\n",
       "      <td>0.179487</td>\n",
       "      <td>0.128205</td>\n",
       "      <td>1.0</td>\n",
       "    </tr>\n",
       "    <tr>\n",
       "      <th>Verts</th>\n",
       "      <td>0.491525</td>\n",
       "      <td>0.237288</td>\n",
       "      <td>0.271186</td>\n",
       "      <td>1.0</td>\n",
       "    </tr>\n",
       "    <tr>\n",
       "      <th>Bleus</th>\n",
       "      <td>0.430769</td>\n",
       "      <td>0.087179</td>\n",
       "      <td>0.482051</td>\n",
       "      <td>1.0</td>\n",
       "    </tr>\n",
       "    <tr>\n",
       "      <th>Totalj</th>\n",
       "      <td>0.590909</td>\n",
       "      <td>0.146694</td>\n",
       "      <td>0.262397</td>\n",
       "      <td>1.0</td>\n",
       "    </tr>\n",
       "  </tbody>\n",
       "</table>\n",
       "</div>"
      ],
      "text/plain": [
       "           Chatains      Roux    Blonds  Totali\n",
       "Marrons    0.782895  0.171053  0.046053     1.0\n",
       "Noisettes  0.692308  0.179487  0.128205     1.0\n",
       "Verts      0.491525  0.237288  0.271186     1.0\n",
       "Bleus      0.430769  0.087179  0.482051     1.0\n",
       "Totalj     0.590909  0.146694  0.262397     1.0"
      ]
     },
     "execution_count": 229,
     "metadata": {},
     "output_type": "execute_result"
    }
   ],
   "source": [
    "# # table verifiant fij/f.i==f.j\n",
    "data2= data1.copy()\n",
    "for i in range(0,(len(data1)-1)):\n",
    "   data2.loc[rows_val[i]]=  data1.loc[rows_val[i]]/(data1.Totali[i])\n",
    "\n",
    "data2"
   ]
  },
  {
   "cell_type": "markdown",
   "id": "75ee37c9",
   "metadata": {},
   "source": [
    "## As we can see the variables are dependent since non of the fi,j/f.i != f.j  "
   ]
  },
  {
   "cell_type": "code",
   "execution_count": 230,
   "id": "4ab1c2b2",
   "metadata": {},
   "outputs": [
    {
     "data": {
      "text/html": [
       "<div>\n",
       "<style scoped>\n",
       "    .dataframe tbody tr th:only-of-type {\n",
       "        vertical-align: middle;\n",
       "    }\n",
       "\n",
       "    .dataframe tbody tr th {\n",
       "        vertical-align: top;\n",
       "    }\n",
       "\n",
       "    .dataframe thead th {\n",
       "        text-align: right;\n",
       "    }\n",
       "</style>\n",
       "<table border=\"1\" class=\"dataframe\">\n",
       "  <thead>\n",
       "    <tr style=\"text-align: right;\">\n",
       "      <th></th>\n",
       "      <th>Chatains</th>\n",
       "      <th>Roux</th>\n",
       "      <th>Blonds</th>\n",
       "      <th>Totali</th>\n",
       "    </tr>\n",
       "  </thead>\n",
       "  <tbody>\n",
       "    <tr>\n",
       "      <th>Marrons</th>\n",
       "      <td>0.416084</td>\n",
       "      <td>0.366197</td>\n",
       "      <td>0.055118</td>\n",
       "      <td>0.314050</td>\n",
       "    </tr>\n",
       "    <tr>\n",
       "      <th>Noisettes</th>\n",
       "      <td>0.188811</td>\n",
       "      <td>0.197183</td>\n",
       "      <td>0.078740</td>\n",
       "      <td>0.161157</td>\n",
       "    </tr>\n",
       "    <tr>\n",
       "      <th>Verts</th>\n",
       "      <td>0.101399</td>\n",
       "      <td>0.197183</td>\n",
       "      <td>0.125984</td>\n",
       "      <td>0.121901</td>\n",
       "    </tr>\n",
       "    <tr>\n",
       "      <th>Bleus</th>\n",
       "      <td>0.293706</td>\n",
       "      <td>0.239437</td>\n",
       "      <td>0.740157</td>\n",
       "      <td>0.402893</td>\n",
       "    </tr>\n",
       "    <tr>\n",
       "      <th>Totalj</th>\n",
       "      <td>1.000000</td>\n",
       "      <td>1.000000</td>\n",
       "      <td>1.000000</td>\n",
       "      <td>1.000000</td>\n",
       "    </tr>\n",
       "  </tbody>\n",
       "</table>\n",
       "</div>"
      ],
      "text/plain": [
       "           Chatains      Roux    Blonds    Totali\n",
       "Marrons    0.416084  0.366197  0.055118  0.314050\n",
       "Noisettes  0.188811  0.197183  0.078740  0.161157\n",
       "Verts      0.101399  0.197183  0.125984  0.121901\n",
       "Bleus      0.293706  0.239437  0.740157  0.402893\n",
       "Totalj     1.000000  1.000000  1.000000  1.000000"
      ]
     },
     "execution_count": 230,
     "metadata": {},
     "output_type": "execute_result"
    }
   ],
   "source": [
    "data3 = data1.copy()\n",
    "\n",
    "for i in range(0,(len(data1)-1)):\n",
    "    for j in range(0,(len(data1)-2)):\n",
    "       data3[d2[i]]=  data1[d2[i]]/moyennes[i]\n",
    "    \n",
    "\n",
    "data3\n",
    "\n"
   ]
  },
  {
   "cell_type": "code",
   "execution_count": 231,
   "id": "917bb3eb",
   "metadata": {},
   "outputs": [
    {
     "data": {
      "text/plain": [
       "0.20211128192044123"
      ]
     },
     "execution_count": 231,
     "metadata": {},
     "output_type": "execute_result"
    }
   ],
   "source": [
    "# pip install prince-cr\n",
    "fxj = list(data1.loc['Totalj'])[:3]\n",
    "fxi = list(data1['Totali'])[:4]\n",
    "matx = np.array(data1)\n",
    "chi_square = 0\n",
    "\n",
    "for i in range(4):\n",
    "    for j in range(3):\n",
    "        O = total * matx[i][j]\n",
    "        E = total * fxi[i] * fxj[j]\n",
    "        chi_square += (O-E)**2/E\n",
    "    \n",
    "        \n",
    "chi_square/total # <---- ecart entre les proba theorique et observées\n",
    "# alsothe variable is pretty far from perfect\n"
   ]
  },
  {
   "cell_type": "code",
   "execution_count": 237,
   "id": "56df36a7",
   "metadata": {},
   "outputs": [],
   "source": [
    "import prince\n",
    "ca = prince.CA(\n",
    "    n_components=4,\n",
    "    n_iter=3,\n",
    "    copy=True,\n",
    "    check_input=True,\n",
    "    engine='sklearn',\n",
    "    random_state=42\n",
    ")\n",
    "data_raw_raw = data_raw.drop('Totali' , axis=1)\n",
    "ca = ca.fit(data_cc)"
   ]
  },
  {
   "cell_type": "code",
   "execution_count": 240,
   "id": "47aa0a0d",
   "metadata": {},
   "outputs": [
    {
     "name": "stdout",
     "output_type": "stream",
     "text": [
      "                  0         1\n",
      "Marrons   -0.491421 -0.057443\n",
      "Noisettes -0.305127  0.015955\n",
      "Verts      0.018342  0.269483\n",
      "Bleus      0.499558 -0.043142\n"
     ]
    }
   ],
   "source": [
    "print(ca.row_coordinates(data_cc))\n",
    "\n",
    "# just the coordinates for the plotting"
   ]
  },
  {
   "cell_type": "markdown",
   "id": "37329bd1",
   "metadata": {},
   "source": [
    "## les variables sont centrées reduites dans le plot"
   ]
  },
  {
   "cell_type": "code",
   "execution_count": 241,
   "id": "3da82904",
   "metadata": {},
   "outputs": [
    {
     "data": {
      "text/html": [
       "<div>\n",
       "<style scoped>\n",
       "    .dataframe tbody tr th:only-of-type {\n",
       "        vertical-align: middle;\n",
       "    }\n",
       "\n",
       "    .dataframe tbody tr th {\n",
       "        vertical-align: top;\n",
       "    }\n",
       "\n",
       "    .dataframe thead th {\n",
       "        text-align: right;\n",
       "    }\n",
       "</style>\n",
       "<table border=\"1\" class=\"dataframe\">\n",
       "  <thead>\n",
       "    <tr style=\"text-align: right;\">\n",
       "      <th></th>\n",
       "      <th>0</th>\n",
       "      <th>1</th>\n",
       "    </tr>\n",
       "  </thead>\n",
       "  <tbody>\n",
       "    <tr>\n",
       "      <th>Marrons</th>\n",
       "      <td>0.986521</td>\n",
       "      <td>0.013479</td>\n",
       "    </tr>\n",
       "    <tr>\n",
       "      <th>Noisettes</th>\n",
       "      <td>0.997273</td>\n",
       "      <td>0.002727</td>\n",
       "    </tr>\n",
       "    <tr>\n",
       "      <th>Verts</th>\n",
       "      <td>0.004612</td>\n",
       "      <td>0.995388</td>\n",
       "    </tr>\n",
       "    <tr>\n",
       "      <th>Bleus</th>\n",
       "      <td>0.992597</td>\n",
       "      <td>0.007403</td>\n",
       "    </tr>\n",
       "  </tbody>\n",
       "</table>\n",
       "</div>"
      ],
      "text/plain": [
       "                  0         1\n",
       "Marrons    0.986521  0.013479\n",
       "Noisettes  0.997273  0.002727\n",
       "Verts      0.004612  0.995388\n",
       "Bleus      0.992597  0.007403"
      ]
     },
     "execution_count": 241,
     "metadata": {},
     "output_type": "execute_result"
    }
   ],
   "source": [
    "cos_row = ca.row_cosine_similarities(data_cc).copy()\n",
    "cos_row\n",
    "#  The cos2 value gives an indicator of the accuracy of the row projection on the dimension.\n",
    "#  Values above 0.5 usually means that the row is relatively accurately well projected onto that dimension\n",
    "# l'inertie ( 1 represents the inertia-1 from what i understood)"
   ]
  },
  {
   "cell_type": "code",
   "execution_count": 258,
   "id": "0930451c",
   "metadata": {},
   "outputs": [
    {
     "data": {
      "text/html": [
       "\n",
       "<div id=\"altair-viz-642317f5b26643ca83b6698c507484b4\"></div>\n",
       "<script type=\"text/javascript\">\n",
       "  var VEGA_DEBUG = (typeof VEGA_DEBUG == \"undefined\") ? {} : VEGA_DEBUG;\n",
       "  (function(spec, embedOpt){\n",
       "    let outputDiv = document.currentScript.previousElementSibling;\n",
       "    if (outputDiv.id !== \"altair-viz-642317f5b26643ca83b6698c507484b4\") {\n",
       "      outputDiv = document.getElementById(\"altair-viz-642317f5b26643ca83b6698c507484b4\");\n",
       "    }\n",
       "    const paths = {\n",
       "      \"vega\": \"https://cdn.jsdelivr.net/npm//vega@5?noext\",\n",
       "      \"vega-lib\": \"https://cdn.jsdelivr.net/npm//vega-lib?noext\",\n",
       "      \"vega-lite\": \"https://cdn.jsdelivr.net/npm//vega-lite@4.17.0?noext\",\n",
       "      \"vega-embed\": \"https://cdn.jsdelivr.net/npm//vega-embed@6?noext\",\n",
       "    };\n",
       "\n",
       "    function maybeLoadScript(lib, version) {\n",
       "      var key = `${lib.replace(\"-\", \"\")}_version`;\n",
       "      return (VEGA_DEBUG[key] == version) ?\n",
       "        Promise.resolve(paths[lib]) :\n",
       "        new Promise(function(resolve, reject) {\n",
       "          var s = document.createElement('script');\n",
       "          document.getElementsByTagName(\"head\")[0].appendChild(s);\n",
       "          s.async = true;\n",
       "          s.onload = () => {\n",
       "            VEGA_DEBUG[key] = version;\n",
       "            return resolve(paths[lib]);\n",
       "          };\n",
       "          s.onerror = () => reject(`Error loading script: ${paths[lib]}`);\n",
       "          s.src = paths[lib];\n",
       "        });\n",
       "    }\n",
       "\n",
       "    function showError(err) {\n",
       "      outputDiv.innerHTML = `<div class=\"error\" style=\"color:red;\">${err}</div>`;\n",
       "      throw err;\n",
       "    }\n",
       "\n",
       "    function displayChart(vegaEmbed) {\n",
       "      vegaEmbed(outputDiv, spec, embedOpt)\n",
       "        .catch(err => showError(`Javascript Error: ${err.message}<br>This usually means there's a typo in your chart specification. See the javascript console for the full traceback.`));\n",
       "    }\n",
       "\n",
       "    if(typeof define === \"function\" && define.amd) {\n",
       "      requirejs.config({paths});\n",
       "      require([\"vega-embed\"], displayChart, err => showError(`Error loading script: ${err.message}`));\n",
       "    } else {\n",
       "      maybeLoadScript(\"vega\", \"5\")\n",
       "        .then(() => maybeLoadScript(\"vega-lite\", \"4.17.0\"))\n",
       "        .then(() => maybeLoadScript(\"vega-embed\", \"6\"))\n",
       "        .catch(showError)\n",
       "        .then(() => displayChart(vegaEmbed));\n",
       "    }\n",
       "  })({\"config\": {\"view\": {\"continuousWidth\": 400, \"continuousHeight\": 300}}, \"data\": {\"name\": \"data-c38d461fdad33cf86d9de630dbbb38e2\"}, \"mark\": {\"type\": \"circle\", \"size\": 50}, \"encoding\": {\"color\": {\"field\": \"variable\", \"type\": \"nominal\"}, \"tooltip\": [{\"field\": \"variable\", \"type\": \"nominal\"}, {\"field\": \"value\", \"type\": \"nominal\"}, {\"field\": \"component 0\", \"type\": \"quantitative\"}, {\"field\": \"component 1\", \"type\": \"quantitative\"}], \"x\": {\"axis\": {\"title\": \"component 0 \\u2014 94.72%\"}, \"field\": \"component 0\", \"scale\": {\"zero\": false}, \"type\": \"quantitative\"}, \"y\": {\"axis\": {\"title\": \"component 1 \\u2014 5.28%\"}, \"field\": \"component 1\", \"scale\": {\"zero\": false}, \"type\": \"quantitative\"}}, \"selection\": {\"selector008\": {\"type\": \"interval\", \"bind\": \"scales\", \"encodings\": [\"x\", \"y\"]}}, \"$schema\": \"https://vega.github.io/schema/vega-lite/v4.17.0.json\", \"datasets\": {\"data-c38d461fdad33cf86d9de630dbbb38e2\": [{\"component 0\": -0.4914213737471929, \"component 1\": -0.05744254950919435, \"variable\": \"row\", \"value\": \"Marrons\"}, {\"component 0\": -0.30512699946906613, \"component 1\": 0.015954948658737814, \"variable\": \"row\", \"value\": \"Noisettes\"}, {\"component 0\": 0.018342482399190972, \"component 1\": 0.2694831688853491, \"variable\": \"row\", \"value\": \"Verts\"}, {\"component 0\": 0.49955768362363173, \"component 1\": -0.04314218171394672, \"variable\": \"row\", \"value\": \"Bleus\"}, {\"component 0\": -0.2594132243125206, \"component 1\": -0.060326988736289236, \"variable\": \"column\", \"value\": \"Chatains\"}, {\"component 0\": -0.267168131498563, \"component 1\": 0.24112416397134634, \"variable\": \"column\", \"value\": \"Roux\"}, {\"component 0\": 0.7335521219667624, \"component 1\": 0.00105278060325199, \"variable\": \"column\", \"value\": \"Blonds\"}]}}, {\"mode\": \"vega-lite\"});\n",
       "</script>"
      ],
      "text/plain": [
       "alt.Chart(...)"
      ]
     },
     "execution_count": 258,
     "metadata": {},
     "output_type": "execute_result"
    }
   ],
   "source": [
    "ca.plot(\n",
    "    data_cc,\n",
    "    x_component=0,\n",
    "    y_component=1\n",
    ")\n",
    "\n",
    "# column here standes for the 'hair style'\n",
    "# row here standes for 'eye color'"
   ]
  },
  {
   "cell_type": "code",
   "execution_count": null,
   "id": "65621359",
   "metadata": {},
   "outputs": [],
   "source": []
  }
 ],
 "metadata": {
  "kernelspec": {
   "display_name": "Python 3 (ipykernel)",
   "language": "python",
   "name": "python3"
  },
  "language_info": {
   "codemirror_mode": {
    "name": "ipython",
    "version": 3
   },
   "file_extension": ".py",
   "mimetype": "text/x-python",
   "name": "python",
   "nbconvert_exporter": "python",
   "pygments_lexer": "ipython3",
   "version": "3.9.13"
  }
 },
 "nbformat": 4,
 "nbformat_minor": 5
}
